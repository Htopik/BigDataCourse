{
  "nbformat": 4,
  "nbformat_minor": 0,
  "metadata": {
    "colab": {
      "provenance": [],
      "collapsed_sections": [
        "QtTFyqke3KGe",
        "BNhh5763w5Vn",
        "ruZREYdi2o4O",
        "R7az-6DA6qr2",
        "h-jRAcYCAkkk",
        "CWYw_CpbbY3C",
        "gCJGx8IQ87xS",
        "cfvAeZm3S8S8",
        "k86bXnqZTk-U",
        "xanzszhsIlLe",
        "5SgEjCZyGnu6",
        "xYV_49p_owiD",
        "e7sRGoTXuJze",
        "w27Ca-_Ku85V",
        "7gau6lKXvn2R",
        "AVOpqoY3wE5k",
        "j8I58V2VwhSm"
      ]
    },
    "kernelspec": {
      "name": "python3",
      "display_name": "Python 3"
    }
  },
  "cells": [
    {
      "cell_type": "markdown",
      "metadata": {
        "id": "82OvPKEiEqjc"
      },
      "source": [
        "# Введение в MapReduce модель на Python\n"
      ]
    },
    {
      "cell_type": "code",
      "metadata": {
        "id": "JQ2cvXLjICmI"
      },
      "source": [
        "from typing import NamedTuple # requires python 3.6+\n",
        "from typing import Iterator"
      ],
      "execution_count": 2,
      "outputs": []
    },
    {
      "cell_type": "code",
      "metadata": {
        "id": "yjPHumVwEyEg"
      },
      "source": [
        "def MAP(_, row:NamedTuple):\n",
        "  if (row.gender == 'female'):\n",
        "    yield (row.age, row)\n",
        "\n",
        "def REDUCE(age:str, rows:Iterator[NamedTuple]):\n",
        "  sum = 0\n",
        "  count = 0\n",
        "  for row in rows:\n",
        "    sum += row.social_contacts\n",
        "    count += 1\n",
        "  if (count > 0):\n",
        "    yield (age, sum/count)\n",
        "  else:\n",
        "    yield (age, 0)"
      ],
      "execution_count": 3,
      "outputs": []
    },
    {
      "cell_type": "markdown",
      "metadata": {
        "id": "vBKMgpG_ilaZ"
      },
      "source": [
        "Модель элемента данных"
      ]
    },
    {
      "cell_type": "code",
      "metadata": {
        "id": "Rv-XIjhTJPx3"
      },
      "source": [
        "class User(NamedTuple):\n",
        "  id: int\n",
        "  age: str\n",
        "  social_contacts: int\n",
        "  gender: str"
      ],
      "execution_count": 4,
      "outputs": []
    },
    {
      "cell_type": "code",
      "metadata": {
        "id": "5KV0Ze2vQgu5"
      },
      "source": [
        "input_collection = [\n",
        "    User(id=0, age=55, gender='male', social_contacts=20),\n",
        "    User(id=1, age=33, gender='female', social_contacts=240),\n",
        "    User(id=2, age=25, gender='female', social_contacts=500),\n",
        "    User(id=3, age=33, gender='female', social_contacts=800)\n",
        "]"
      ],
      "execution_count": 5,
      "outputs": []
    },
    {
      "cell_type": "markdown",
      "metadata": {
        "id": "YFeqzyZxZIFZ"
      },
      "source": [
        "Функция RECORDREADER моделирует чтение элементов с диска или по сети."
      ]
    },
    {
      "cell_type": "code",
      "metadata": {
        "id": "S5HR4E_GQoMJ"
      },
      "source": [
        "def RECORDREADER():\n",
        "  return [(u.id, u) for u in input_collection]"
      ],
      "execution_count": 6,
      "outputs": []
    },
    {
      "cell_type": "code",
      "metadata": {
        "id": "NeEoWla-ROUy",
        "colab": {
          "base_uri": "https://localhost:8080/"
        },
        "outputId": "9229f972-514b-4c9e-8946-298d8e73dfcc"
      },
      "source": [
        "list(RECORDREADER())"
      ],
      "execution_count": 7,
      "outputs": [
        {
          "output_type": "execute_result",
          "data": {
            "text/plain": [
              "[(0, User(id=0, age=55, social_contacts=20, gender='male')),\n",
              " (1, User(id=1, age=33, social_contacts=240, gender='female')),\n",
              " (2, User(id=2, age=25, social_contacts=500, gender='female')),\n",
              " (3, User(id=3, age=33, social_contacts=800, gender='female'))]"
            ]
          },
          "metadata": {},
          "execution_count": 7
        }
      ]
    },
    {
      "cell_type": "code",
      "metadata": {
        "id": "YB8orgPSZs8M"
      },
      "source": [
        "def flatten(nested_iterable):\n",
        "  for iterable in nested_iterable:\n",
        "    for element in iterable:\n",
        "      yield element"
      ],
      "execution_count": 8,
      "outputs": []
    },
    {
      "cell_type": "code",
      "metadata": {
        "id": "74oyvDLaRmd5",
        "colab": {
          "base_uri": "https://localhost:8080/"
        },
        "outputId": "dd52c067-1055-4039-dbb7-3d91cd4a0935"
      },
      "source": [
        "map_output = flatten(map(lambda x: MAP(*x), RECORDREADER()))\n",
        "map_output = list(map_output) # materialize\n",
        "map_output"
      ],
      "execution_count": 9,
      "outputs": [
        {
          "output_type": "execute_result",
          "data": {
            "text/plain": [
              "[(33, User(id=1, age=33, social_contacts=240, gender='female')),\n",
              " (25, User(id=2, age=25, social_contacts=500, gender='female')),\n",
              " (33, User(id=3, age=33, social_contacts=800, gender='female'))]"
            ]
          },
          "metadata": {},
          "execution_count": 9
        }
      ]
    },
    {
      "cell_type": "code",
      "metadata": {
        "id": "8ncYDJ3-VzDn"
      },
      "source": [
        "def groupbykey(iterable):\n",
        "  t = {}\n",
        "  for (k2, v2) in iterable:\n",
        "    t[k2] = t.get(k2, []) + [v2]\n",
        "  return t.items()"
      ],
      "execution_count": 10,
      "outputs": []
    },
    {
      "cell_type": "code",
      "metadata": {
        "id": "cKzY_6COWOA2",
        "colab": {
          "base_uri": "https://localhost:8080/"
        },
        "outputId": "a4cf70a8-8b53-490b-f783-966208c2afa0"
      },
      "source": [
        "shuffle_output = groupbykey(map_output)\n",
        "shuffle_output = list(shuffle_output)\n",
        "shuffle_output"
      ],
      "execution_count": 11,
      "outputs": [
        {
          "output_type": "execute_result",
          "data": {
            "text/plain": [
              "[(33,\n",
              "  [User(id=1, age=33, social_contacts=240, gender='female'),\n",
              "   User(id=3, age=33, social_contacts=800, gender='female')]),\n",
              " (25, [User(id=2, age=25, social_contacts=500, gender='female')])]"
            ]
          },
          "metadata": {},
          "execution_count": 11
        }
      ]
    },
    {
      "cell_type": "code",
      "metadata": {
        "id": "NlA7lkDDYL0t",
        "colab": {
          "base_uri": "https://localhost:8080/"
        },
        "outputId": "0aa49f5c-6f0a-4d4f-9640-095b4e036818"
      },
      "source": [
        "reduce_output = flatten(map(lambda x: REDUCE(*x), shuffle_output))\n",
        "reduce_output = list(reduce_output)\n",
        "reduce_output"
      ],
      "execution_count": 12,
      "outputs": [
        {
          "output_type": "execute_result",
          "data": {
            "text/plain": [
              "[(33, 520.0), (25, 500.0)]"
            ]
          },
          "metadata": {},
          "execution_count": 12
        }
      ]
    },
    {
      "cell_type": "markdown",
      "metadata": {
        "id": "xf6qhHEtd6bI"
      },
      "source": [
        "Все действия одним конвейером!"
      ]
    },
    {
      "cell_type": "code",
      "metadata": {
        "id": "dZaQGYxCdpw5",
        "colab": {
          "base_uri": "https://localhost:8080/"
        },
        "outputId": "d8dea335-6b6f-48fa-d54f-42f7f9e1b510"
      },
      "source": [
        "list(flatten(map(lambda x: REDUCE(*x), groupbykey(flatten(map(lambda x: MAP(*x), RECORDREADER()))))))"
      ],
      "execution_count": 13,
      "outputs": [
        {
          "output_type": "execute_result",
          "data": {
            "text/plain": [
              "[(33, 520.0), (25, 500.0)]"
            ]
          },
          "metadata": {},
          "execution_count": 13
        }
      ]
    },
    {
      "cell_type": "markdown",
      "metadata": {
        "id": "Vq3EWRIpwSiJ"
      },
      "source": [
        "# **MapReduce**\n",
        "Выделим общую для всех пользователей часть системы в отдельную функцию высшего порядка. Это наиболее простая модель MapReduce, без учёта распределённого хранения данных.\n",
        "\n",
        "Пользователь для решения своей задачи реализует RECORDREADER, MAP, REDUCE."
      ]
    },
    {
      "cell_type": "code",
      "metadata": {
        "id": "V1PZeQMwwVjc"
      },
      "source": [
        "def flatten(nested_iterable):\n",
        "  for iterable in nested_iterable:\n",
        "    for element in iterable:\n",
        "      yield element\n",
        "\n",
        "def groupbykey(iterable):\n",
        "  t = {}\n",
        "  for (k2, v2) in iterable:\n",
        "    t[k2] = t.get(k2, []) + [v2]\n",
        "  return t.items()\n",
        "\n",
        "def MapReduce(RECORDREADER, MAP, REDUCE):\n",
        "  return flatten(map(lambda x: REDUCE(*x), groupbykey(flatten(map(lambda x: MAP(*x), RECORDREADER())))))"
      ],
      "execution_count": 14,
      "outputs": []
    },
    {
      "cell_type": "markdown",
      "metadata": {
        "id": "iFIVrimep678"
      },
      "source": [
        "## Спецификация MapReduce\n",
        "\n",
        "\n",
        "\n",
        "```\n",
        "f (k1, v1) -> (k2,v2)*\n",
        "g (k2, v2*) -> (k3,v3)*\n",
        "\n",
        "mapreduce ((k1,v1)*) -> (k3,v3)*\n",
        "groupby ((k2,v2)*) -> (k2,v2*)*\n",
        "flatten (e2**) -> e2*\n",
        "\n",
        "mapreduce .map(f).flatten.groupby(k2).map(g).flatten\n",
        "```\n",
        "\n",
        "\n"
      ]
    },
    {
      "cell_type": "markdown",
      "metadata": {
        "id": "QtTFyqke3KGe"
      },
      "source": [
        "# Примеры"
      ]
    },
    {
      "cell_type": "markdown",
      "metadata": {
        "id": "BNhh5763w5Vn"
      },
      "source": [
        "## SQL"
      ]
    },
    {
      "cell_type": "code",
      "metadata": {
        "id": "QkyurnvGxBGk",
        "colab": {
          "base_uri": "https://localhost:8080/"
        },
        "outputId": "e3680f1a-74e5-4b9e-d76e-fbf79ebd0922"
      },
      "source": [
        "from typing import NamedTuple # requires python 3.6+\n",
        "from typing import Iterator\n",
        "\n",
        "class User(NamedTuple):\n",
        "  id: int\n",
        "  age: str\n",
        "  social_contacts: int\n",
        "  gender: str\n",
        "\n",
        "input_collection = [\n",
        "    User(id=0, age=55, gender='male', social_contacts=20),\n",
        "    User(id=1, age=25, gender='female', social_contacts=240),\n",
        "    User(id=2, age=25, gender='female', social_contacts=500),\n",
        "    User(id=3, age=33, gender='female', social_contacts=800)\n",
        "]\n",
        "\n",
        "def MAP(_, row:NamedTuple):\n",
        "  if (row.gender == 'female'):\n",
        "    yield (row.age, row)\n",
        "\n",
        "def REDUCE(age:str, rows:Iterator[NamedTuple]):\n",
        "  sum = 0\n",
        "  count = 0\n",
        "  for row in rows:\n",
        "    sum += row.social_contacts\n",
        "    count += 1\n",
        "  if (count > 0):\n",
        "    yield (age, sum/count)\n",
        "  else:\n",
        "    yield (age, 0)\n",
        "\n",
        "def RECORDREADER():\n",
        "  return [(u.id, u) for u in input_collection]\n",
        "\n",
        "output = MapReduce(RECORDREADER, MAP, REDUCE)\n",
        "output = list(output)\n",
        "output"
      ],
      "execution_count": 15,
      "outputs": [
        {
          "output_type": "execute_result",
          "data": {
            "text/plain": [
              "[(25, 370.0), (33, 800.0)]"
            ]
          },
          "metadata": {},
          "execution_count": 15
        }
      ]
    },
    {
      "cell_type": "markdown",
      "metadata": {
        "id": "kNKYIeerx0nY"
      },
      "source": [
        "## Matrix-Vector multiplication"
      ]
    },
    {
      "cell_type": "code",
      "metadata": {
        "id": "rwcntRcCyi1V",
        "colab": {
          "base_uri": "https://localhost:8080/"
        },
        "outputId": "54cd0e08-7c8a-4216-cca9-646e947ff18e"
      },
      "source": [
        "from typing import Iterator\n",
        "import numpy as np\n",
        "\n",
        "mat = np.ones((5,4))\n",
        "vec = np.random.rand(4) # in-memory vector in all map tasks\n",
        "\n",
        "def MAP(coordinates:(int, int), value:int):\n",
        "  i, j = coordinates\n",
        "  yield (i, value*vec[j]) # Значение [i, j] элемента * значение vec[j]. Для каждой строки i образуется shape[1] строк подобного формата\n",
        "\n",
        "def REDUCE(i:int, products:Iterator[NamedTuple]):\n",
        "  sum = 0\n",
        "  for p in products:\n",
        "    sum += p\n",
        "  yield (i, sum) #shape[1] строк, полученных с помощью MAP объединяются с помощью суммирования\n",
        "\n",
        "def RECORDREADER():\n",
        "  for i in range(mat.shape[0]):\n",
        "    for j in range(mat.shape[1]):\n",
        "      yield ((i, j), mat[i,j]) #Представление матрицы. Сохранение [i, j] элемента в формате ((i, j), key)\n",
        "\n",
        "output = MapReduce(RECORDREADER, MAP, REDUCE)\n",
        "output = list(output)\n",
        "output"
      ],
      "execution_count": 16,
      "outputs": [
        {
          "output_type": "execute_result",
          "data": {
            "text/plain": [
              "[(0, 1.695821756819591),\n",
              " (1, 1.695821756819591),\n",
              " (2, 1.695821756819591),\n",
              " (3, 1.695821756819591),\n",
              " (4, 1.695821756819591)]"
            ]
          },
          "metadata": {},
          "execution_count": 16
        }
      ]
    },
    {
      "cell_type": "markdown",
      "metadata": {
        "id": "ruZREYdi2o4O"
      },
      "source": [
        "## Inverted index"
      ]
    },
    {
      "cell_type": "code",
      "metadata": {
        "id": "vt9H9Alf3TYv",
        "colab": {
          "base_uri": "https://localhost:8080/"
        },
        "outputId": "82368b26-19c7-4f8f-eb5e-7541d9985e5c"
      },
      "source": [
        "from typing import Iterator\n",
        "\n",
        "d1 = \"it is what it is\"\n",
        "d2 = \"what is it\"\n",
        "d3 = \"it is a banana\"\n",
        "documents = [d1, d2, d3]\n",
        "\n",
        "def RECORDREADER():\n",
        "  for (docid, document) in enumerate(documents):\n",
        "    yield (\"{}\".format(docid), document) #Индекс строки - строка\n",
        "\n",
        "def MAP(docId:str, body:str):\n",
        "  for word in set(body.split(' ')):\n",
        "    yield (word, docId) # разбивает строки на слова и создаёт комбинацию слово - номер строки\n",
        "\n",
        "def REDUCE(word:str, docIds:Iterator[str]):\n",
        "  yield (word, sorted(docIds)) # объединяет одинаковые слова и выводит в каких строках они появлялись\n",
        "\n",
        "output = MapReduce(RECORDREADER, MAP, REDUCE)\n",
        "output = list(output)\n",
        "output"
      ],
      "execution_count": 17,
      "outputs": [
        {
          "output_type": "execute_result",
          "data": {
            "text/plain": [
              "[('it', ['0', '1', '2']),\n",
              " ('is', ['0', '1', '2']),\n",
              " ('what', ['0', '1']),\n",
              " ('banana', ['2']),\n",
              " ('a', ['2'])]"
            ]
          },
          "metadata": {},
          "execution_count": 17
        }
      ]
    },
    {
      "cell_type": "markdown",
      "metadata": {
        "id": "R7az-6DA6qr2"
      },
      "source": [
        "## WordCount"
      ]
    },
    {
      "cell_type": "code",
      "metadata": {
        "id": "dN-nbtgG6uYG",
        "colab": {
          "base_uri": "https://localhost:8080/"
        },
        "outputId": "776e5d12-d09b-45d0-c5d0-c7e8d3aef199"
      },
      "source": [
        "from typing import Iterator\n",
        "\n",
        "d1 = \"\"\"\n",
        "it is what it is\n",
        "it is what it is\n",
        "it is what it is\"\"\"\n",
        "d2 = \"\"\"\n",
        "what is it\n",
        "what is it\"\"\"\n",
        "d3 = \"\"\"\n",
        "it is a banana\"\"\"\n",
        "documents = [d1, d2, d3]\n",
        "\n",
        "def RECORDREADER():\n",
        "  for (docid, document) in enumerate(documents):\n",
        "    for (lineid, line) in enumerate(document.split('\\n')):\n",
        "      yield (\"{}:{}\".format(docid,lineid), line) #{номер элемента списка}:{Номер строки в элементе списка}, значение строки\n",
        "\n",
        "def MAP(docId:str, line:str):\n",
        "  for word in line.split(\" \"):\n",
        "    yield (word, 1)\n",
        "\n",
        "def REDUCE(word:str, counts:Iterator[int]):\n",
        "  sum = 0\n",
        "  for c in counts:\n",
        "    sum += c\n",
        "  yield (word, sum)\n",
        "\n",
        "output = MapReduce(RECORDREADER, MAP, REDUCE)\n",
        "output = list(output)\n",
        "output"
      ],
      "execution_count": 18,
      "outputs": [
        {
          "output_type": "execute_result",
          "data": {
            "text/plain": [
              "[('', 3), ('it', 9), ('is', 9), ('what', 5), ('a', 1), ('banana', 1)]"
            ]
          },
          "metadata": {},
          "execution_count": 18
        }
      ]
    },
    {
      "cell_type": "markdown",
      "metadata": {
        "id": "h-jRAcYCAkkk"
      },
      "source": [
        "# MapReduce Distributed\n",
        "\n",
        "Добавляется в модель фабрика RECORDREARER-ов --- INPUTFORMAT, функция распределения промежуточных результатов по партициям PARTITIONER, и функция COMBINER для частичной аггрегации промежуточных результатов до распределения по новым партициям."
      ]
    },
    {
      "cell_type": "code",
      "metadata": {
        "id": "nw-b-xJsApgW"
      },
      "source": [
        "def flatten(nested_iterable):\n",
        "  for iterable in nested_iterable:\n",
        "    for element in iterable:\n",
        "      yield element\n",
        "\n",
        "def groupbykey(iterable):\n",
        "  t = {}\n",
        "  for (k2, v2) in iterable:\n",
        "    t[k2] = t.get(k2, []) + [v2]\n",
        "  return t.items()\n",
        "\n",
        "def groupbykey_distributed(map_partitions, PARTITIONER):\n",
        "  global reducers\n",
        "  partitions = [dict() for _ in range(reducers)]\n",
        "  for map_partition in map_partitions:\n",
        "    for (k2, v2) in map_partition:\n",
        "      p = partitions[PARTITIONER(k2)]\n",
        "      p[k2] = p.get(k2, []) + [v2]\n",
        "  return [(partition_id, sorted(partition.items(), key=lambda x: x[0])) for (partition_id, partition) in enumerate(partitions)]\n",
        "\n",
        "def PARTITIONER(obj):\n",
        "  global reducers\n",
        "  return hash(obj) % reducers\n",
        "\n",
        "def MapReduceDistributed(INPUTFORMAT, MAP, REDUCE, PARTITIONER=PARTITIONER, COMBINER=None):\n",
        "  map_partitions = map(lambda record_reader: flatten(map(lambda k1v1: MAP(*k1v1), record_reader)), INPUTFORMAT())\n",
        "  if COMBINER != None:\n",
        "    map_partitions = map(lambda map_partition: flatten(map(lambda k2v2: COMBINER(*k2v2), groupbykey(map_partition))), map_partitions)\n",
        "  reduce_partitions = groupbykey_distributed(map_partitions, PARTITIONER) # shuffle\n",
        "  reduce_outputs = map(lambda reduce_partition: (reduce_partition[0], flatten(map(lambda reduce_input_group: REDUCE(*reduce_input_group), reduce_partition[1]))), reduce_partitions)\n",
        "\n",
        "  print(\"{} key-value pairs were sent over a network.\".format(sum([len(vs) for (k,vs) in flatten([partition for (partition_id, partition) in reduce_partitions])])))\n",
        "  return reduce_outputs"
      ],
      "execution_count": 19,
      "outputs": []
    },
    {
      "cell_type": "markdown",
      "metadata": {
        "id": "kxirlf3XqZxY"
      },
      "source": [
        "## Спецификация MapReduce Distributed\n",
        "\n",
        "\n",
        "```\n",
        "f (k1, v1) -> (k2,v2)*\n",
        "g (k2, v2*) -> (k3,v3)*\n",
        "\n",
        "e1 (k1, v1)\n",
        "e2 (k2, v2)\n",
        "partition1 (k2, v2)*\n",
        "partition2 (k2, v2*)*\n",
        "\n",
        "flatmap (e1->e2*, e1*) -> partition1*\n",
        "groupby (partition1*) -> partition2*\n",
        "\n",
        "mapreduce ((k1,v1)*) -> (k3,v3)*\n",
        "mapreduce .flatmap(f).groupby(k2).flatmap(g)\n",
        "```\n",
        "\n"
      ]
    },
    {
      "cell_type": "markdown",
      "metadata": {
        "id": "CWYw_CpbbY3C"
      },
      "source": [
        "## WordCount"
      ]
    },
    {
      "cell_type": "code",
      "metadata": {
        "id": "uR_zfGFkMZlp",
        "colab": {
          "base_uri": "https://localhost:8080/"
        },
        "outputId": "cc441298-7ba6-49af-99b1-a9e7bbfbff46"
      },
      "source": [
        "from typing import Iterator\n",
        "import numpy as np\n",
        "\n",
        "d1 = \"\"\"\n",
        "it is what it is\n",
        "it is what it is\n",
        "it is what it is\"\"\"\n",
        "d2 = \"\"\"\n",
        "what is it\n",
        "what is it\"\"\"\n",
        "d3 = \"\"\"\n",
        "it is a banana\"\"\"\n",
        "documents = [d1, d2, d3, d1, d2, d3]\n",
        "\n",
        "maps = 3\n",
        "reducers = 2\n",
        "\n",
        "def INPUTFORMAT(): #Разделяет RECORDREADER() на maps штук\n",
        "  global maps\n",
        "\n",
        "  def RECORDREADER(split):\n",
        "    for (docid, document) in enumerate(split):\n",
        "      for (lineid, line) in enumerate(document.split('\\n')):\n",
        "        yield (\"{}:{}\".format(docid,lineid), line)\n",
        "\n",
        "  split_size =  int(np.ceil(len(documents)/maps))\n",
        "  for i in range(0, len(documents), split_size):\n",
        "    yield RECORDREADER(documents[i:i+split_size])\n",
        "\n",
        "def MAP(docId:str, line:str):\n",
        "  for word in line.split(\" \"):\n",
        "    yield (word, 1)\n",
        "\n",
        "def REDUCE(word:str, counts:Iterator[int]):\n",
        "  sum = 0\n",
        "  for c in counts:\n",
        "    sum += c\n",
        "  yield (word, sum)\n",
        "\n",
        "# try to set COMBINER=REDUCER and look at the number of values sent over the network\n",
        "partitioned_output = MapReduceDistributed(INPUTFORMAT, MAP, REDUCE, COMBINER=REDUCE)\n",
        "#Если указать COMBINER=REDUCE, то работа произойдёт быстрее из-за того, что Комбинатор работает над всеми задачами перед распределением на всех производителей\n",
        "partitioned_output = [(partition_id, list(partition)) for (partition_id, partition) in partitioned_output]\n",
        "partitioned_output"
      ],
      "execution_count": 20,
      "outputs": [
        {
          "output_type": "stream",
          "name": "stdout",
          "text": [
            "16 key-value pairs were sent over a network.\n"
          ]
        },
        {
          "output_type": "execute_result",
          "data": {
            "text/plain": [
              "[(0, [('', 6), ('what', 10)]),\n",
              " (1, [('a', 2), ('banana', 2), ('is', 18), ('it', 18)])]"
            ]
          },
          "metadata": {},
          "execution_count": 20
        }
      ]
    },
    {
      "cell_type": "markdown",
      "metadata": {
        "id": "gCJGx8IQ87xS"
      },
      "source": [
        "## TeraSort"
      ]
    },
    {
      "cell_type": "code",
      "metadata": {
        "id": "P2v8v1v_8_YR",
        "colab": {
          "base_uri": "https://localhost:8080/"
        },
        "outputId": "82e2ff16-82f4-4f1a-d5cf-3a3e92a6e9be"
      },
      "source": [
        "import numpy as np\n",
        "\n",
        "input_values = np.random.rand(30)\n",
        "maps = 3\n",
        "reducers = 2\n",
        "min_value = 0.0\n",
        "max_value = 1.0\n",
        "\n",
        "def INPUTFORMAT():\n",
        "  global maps\n",
        "\n",
        "  def RECORDREADER(split):\n",
        "    for value in split:\n",
        "        yield (value, None)\n",
        "\n",
        "  split_size =  int(np.ceil(len(input_values)/maps))\n",
        "  for i in range(0, len(input_values), split_size):\n",
        "    yield RECORDREADER(input_values[i:i+split_size])\n",
        "\n",
        "def MAP(value:int, _):\n",
        "  yield (value, None)\n",
        "\n",
        "def PARTITIONER(key):\n",
        "  global reducers\n",
        "  global max_value\n",
        "  global min_value\n",
        "  bucket_size = (max_value-min_value)/reducers\n",
        "  bucket_id = 0\n",
        "  while((key>(bucket_id+1)*bucket_size) and ((bucket_id+1)*bucket_size<max_value)):\n",
        "    bucket_id += 1\n",
        "  return bucket_id\n",
        "\n",
        "def REDUCE(value:int, _):\n",
        "  yield (None,value)\n",
        "\n",
        "partitioned_output = MapReduceDistributed(INPUTFORMAT, MAP, REDUCE, COMBINER=None, PARTITIONER=PARTITIONER)\n",
        "partitioned_output = [(partition_id, list(partition)) for (partition_id, partition) in partitioned_output]\n",
        "partitioned_output"
      ],
      "execution_count": 21,
      "outputs": [
        {
          "output_type": "stream",
          "name": "stdout",
          "text": [
            "30 key-value pairs were sent over a network.\n"
          ]
        },
        {
          "output_type": "execute_result",
          "data": {
            "text/plain": [
              "[(0,\n",
              "  [(None, 0.06668739290005621),\n",
              "   (None, 0.09060657927614968),\n",
              "   (None, 0.10230431344999413),\n",
              "   (None, 0.10748040985647511),\n",
              "   (None, 0.12194508720344632),\n",
              "   (None, 0.14876385755317345),\n",
              "   (None, 0.23634823652895898),\n",
              "   (None, 0.24555012140775467),\n",
              "   (None, 0.24771060719434412),\n",
              "   (None, 0.2641873648777022),\n",
              "   (None, 0.2716724952843237),\n",
              "   (None, 0.37501657190366056),\n",
              "   (None, 0.3976341307308945),\n",
              "   (None, 0.40178806298516934),\n",
              "   (None, 0.4902665936747498)]),\n",
              " (1,\n",
              "  [(None, 0.5096660622526463),\n",
              "   (None, 0.5181926312280886),\n",
              "   (None, 0.5397621150389451),\n",
              "   (None, 0.587863310897615),\n",
              "   (None, 0.6133152103451096),\n",
              "   (None, 0.6413332265001567),\n",
              "   (None, 0.6695373947883921),\n",
              "   (None, 0.7515344351064858),\n",
              "   (None, 0.8305670681715228),\n",
              "   (None, 0.8524263042228745),\n",
              "   (None, 0.864336913127988),\n",
              "   (None, 0.8788305195876194),\n",
              "   (None, 0.9256961140740451),\n",
              "   (None, 0.9383159458317832),\n",
              "   (None, 0.974493582803867)])]"
            ]
          },
          "metadata": {},
          "execution_count": 21
        }
      ]
    },
    {
      "cell_type": "markdown",
      "metadata": {
        "id": "Iy65YJTH99iT"
      },
      "source": [
        "# Упражнения\n",
        "Упражнения взяты из Rajaraman A., Ullman J. D. Mining of massive datasets. – Cambridge University Press, 2011.\n",
        "\n",
        "\n",
        "Для выполнения заданий переопределите функции RECORDREADER, MAP, REDUCE. Для модели распределённой системы может потребоваться переопределение функций PARTITION и COMBINER."
      ]
    },
    {
      "cell_type": "markdown",
      "metadata": {
        "id": "cfvAeZm3S8S8"
      },
      "source": [
        "### Максимальное значение ряда\n",
        "\n",
        "Разработайте MapReduce алгоритм, который находит максимальное число входного списка чисел."
      ]
    },
    {
      "cell_type": "code",
      "metadata": {
        "id": "3GRA1JR-Tkbg",
        "colab": {
          "base_uri": "https://localhost:8080/"
        },
        "outputId": "b8bba881-5c37-4c2c-b85d-e4a9ef4f5e7b"
      },
      "source": [
        "import numpy as np\n",
        "\n",
        "input_val = np.random.rand(30)\n",
        "\n",
        "def MAP(_, value):\n",
        "  yield (None, value)\n",
        "\n",
        "def REDUCE(_, value):\n",
        "  yield max(value)\n",
        "\n",
        "def RECORDREADER():\n",
        "  for i in range(input_val.shape[0]):\n",
        "    yield (None, input_val[i])\n",
        "\n",
        "output = MapReduce(RECORDREADER, MAP, REDUCE)\n",
        "output = list(output)\n",
        "output"
      ],
      "execution_count": 22,
      "outputs": [
        {
          "output_type": "execute_result",
          "data": {
            "text/plain": [
              "[0.9903948549357116]"
            ]
          },
          "metadata": {},
          "execution_count": 22
        }
      ]
    },
    {
      "cell_type": "markdown",
      "metadata": {
        "id": "k86bXnqZTk-U"
      },
      "source": [
        "### Арифметическое среднее\n",
        "\n",
        "Разработайте MapReduce алгоритм, который находит арифметическое среднее.\n",
        "\n",
        "$$\\overline{X} = \\frac{1}{n}\\sum_{i=0}^{n} x_i$$\n"
      ]
    },
    {
      "cell_type": "code",
      "metadata": {
        "id": "MPoY5pkfUNZf",
        "colab": {
          "base_uri": "https://localhost:8080/"
        },
        "outputId": "b37c8d8b-ec0c-463f-d4cd-1806cf076f36"
      },
      "source": [
        "input_val = np.random.rand(30)\n",
        "\n",
        "def MAP(_, value):\n",
        "  yield (None, value)\n",
        "\n",
        "def REDUCE(_, value):\n",
        "  yield sum(value) / len(value)\n",
        "\n",
        "def RECORDREADER():\n",
        "  for i in range(input_val.shape[0]):\n",
        "    yield (None, input_val[i])\n",
        "\n",
        "output = MapReduce(RECORDREADER, MAP, REDUCE)\n",
        "output = list(output)\n",
        "output"
      ],
      "execution_count": 23,
      "outputs": [
        {
          "output_type": "execute_result",
          "data": {
            "text/plain": [
              "[0.4754923839696078]"
            ]
          },
          "metadata": {},
          "execution_count": 23
        }
      ]
    },
    {
      "cell_type": "markdown",
      "metadata": {
        "id": "xanzszhsIlLe"
      },
      "source": [
        "### GroupByKey на основе сортировки\n",
        "\n",
        "Реализуйте groupByKey на основе сортировки, проверьте его работу на примерах"
      ]
    },
    {
      "cell_type": "code",
      "metadata": {
        "id": "hQPn3USsIkEC",
        "colab": {
          "base_uri": "https://localhost:8080/"
        },
        "outputId": "da277eef-a753-4cc7-a696-55b6d2c84974"
      },
      "source": [
        "def groupbykey(iterable):\n",
        "  t = {}\n",
        "  for (k2, v2) in iterable:\n",
        "    t[k2] = t.get(k2, []) + [v2]\n",
        "    t[k2] = sorted(t[k2])\n",
        "  return t.items()\n",
        "\n",
        "input_list = [(1, 'a'), (2, 'd'), (1, 'c'), (2, 'b'), (3, 'e')]\n",
        "output = groupbykey(input_list)\n",
        "print(output)\n",
        "\n",
        "(list(groupbykey(map_output)))\n"
      ],
      "execution_count": 24,
      "outputs": [
        {
          "output_type": "stream",
          "name": "stdout",
          "text": [
            "dict_items([(1, ['a', 'c']), (2, ['b', 'd']), (3, ['e'])])\n"
          ]
        },
        {
          "output_type": "execute_result",
          "data": {
            "text/plain": [
              "[(33,\n",
              "  [User(id=1, age=33, social_contacts=240, gender='female'),\n",
              "   User(id=3, age=33, social_contacts=800, gender='female')]),\n",
              " (25, [User(id=2, age=25, social_contacts=500, gender='female')])]"
            ]
          },
          "metadata": {},
          "execution_count": 24
        }
      ]
    },
    {
      "cell_type": "markdown",
      "metadata": {
        "id": "5SgEjCZyGnu6"
      },
      "source": [
        "### Drop duplicates (set construction, unique elements, distinct)\n",
        "\n",
        "Реализуйте распределённую операцию исключения дубликатов"
      ]
    },
    {
      "cell_type": "code",
      "metadata": {
        "id": "okjbyApjGhMt",
        "colab": {
          "base_uri": "https://localhost:8080/"
        },
        "outputId": "74c499ab-abaa-4df1-d4e4-ce09291ad57d"
      },
      "source": [
        "input_collection = [\n",
        "    User(id=2, age=54, gender=\"male\", social_contacts=120),\n",
        "    User(id=0, age=25, gender=\"female\", social_contacts=540),\n",
        "    User(id=3, age=27, gender=\"male\", social_contacts=742),\n",
        "    User(id=1, age=16, gender=\"male\", social_contacts=123),\n",
        "    User(id=2, age=35, gender=\"female\", social_contacts=297),\n",
        "    User(id=3, age=31, gender=\"male\", social_contacts=521),\n",
        "    User(id=1, age=32, gender=\"female\", social_contacts=753),\n",
        "]\n",
        "\n",
        "maps = 3\n",
        "reducers = 2\n",
        "\n",
        "def INPUTFORMAT():\n",
        "    global maps\n",
        "\n",
        "    def RECORDREADER(split):\n",
        "        for userindex, user in enumerate(split):\n",
        "            yield (userindex, user)\n",
        "\n",
        "    split_size = int(np.ceil(len(input_collection) / maps))\n",
        "    for i in range(0, len(input_collection), split_size):\n",
        "        yield RECORDREADER(input_collection[i : i + split_size])\n",
        "\n",
        "\n",
        "def MAP(_, user: str):\n",
        "    yield (user.id, user)\n",
        "\n",
        "\n",
        "def REDUCE(user_id: int, users: Iterator[int]): # (33, [User(id=1, age=33, social_contacts=240, gender='female'), User(id=3, age=33, social_contacts=800, gender='female')])\n",
        "    yield users[0]                              # Оставляем только нулевой элемент\n",
        "\n",
        "\n",
        "partitioned_output = MapReduceDistributed(INPUTFORMAT, MAP, REDUCE, COMBINER=None, PARTITIONER=PARTITIONER)\n",
        "partitioned_output = [(partition_id, list(partition)) for (partition_id, partition) in partitioned_output]\n",
        "partitioned_output"
      ],
      "execution_count": 25,
      "outputs": [
        {
          "output_type": "stream",
          "name": "stdout",
          "text": [
            "7 key-value pairs were sent over a network.\n"
          ]
        },
        {
          "output_type": "execute_result",
          "data": {
            "text/plain": [
              "[(0, [User(id=0, age=25, social_contacts=540, gender='female')]),\n",
              " (1,\n",
              "  [User(id=1, age=16, social_contacts=123, gender='male'),\n",
              "   User(id=2, age=54, social_contacts=120, gender='male'),\n",
              "   User(id=3, age=27, social_contacts=742, gender='male')])]"
            ]
          },
          "metadata": {},
          "execution_count": 25
        }
      ]
    },
    {
      "cell_type": "markdown",
      "source": [
        "#Операторы реляционной алгебры"
      ],
      "metadata": {
        "id": "xYV_49p_owiD"
      }
    },
    {
      "cell_type": "markdown",
      "metadata": {
        "id": "e7sRGoTXuJze"
      },
      "source": [
        "### Selection (Выборка)\n",
        "\n",
        "**The Map Function**: Для  каждого кортежа $t \\in R$ вычисляется истинность предиката $C$. В случае истины создаётся пара ключ-значение $(t, t)$. В паре ключ и значение одинаковы, равны $t$.\n",
        "\n",
        "**The Reduce Function:** Роль функции Reduce выполняет функция идентичности, которая возвращает то же значение, что получила на вход.\n",
        "\n"
      ]
    },
    {
      "cell_type": "code",
      "metadata": {
        "id": "4nKIKe59uIfc",
        "colab": {
          "base_uri": "https://localhost:8080/"
        },
        "outputId": "b36cacc4-5972-4205-b96e-ba1ffcbeadbf"
      },
      "source": [
        "#Select * from users where gender=\"female\" and age > 30;\n",
        "input_collection = [\n",
        "    User(id=2, age=54, gender=\"male\", social_contacts=120),\n",
        "    User(id=0, age=25, gender=\"female\", social_contacts=540),\n",
        "    User(id=3, age=27, gender=\"male\", social_contacts=742),\n",
        "    User(id=1, age=16, gender=\"male\", social_contacts=123),\n",
        "    User(id=2, age=35, gender=\"female\", social_contacts=297),\n",
        "    User(id=3, age=31, gender=\"male\", social_contacts=521),\n",
        "    User(id=1, age=32, gender=\"female\", social_contacts=753),\n",
        "]\n",
        "\n",
        "\n",
        "def MAP(_, row:NamedTuple):\n",
        "  if (row.gender == 'female' and row.age > 30):\n",
        "    yield (row, row)\n",
        "\n",
        "def REDUCE_SELECT(_, rows: NamedTuple):\n",
        "    yield (rows, rows)\n",
        "\n",
        "def RECORDREADER():\n",
        "  return [(u.id, u) for u in input_collection]\n",
        "\n",
        "output = MapReduce(RECORDREADER, MAP, REDUCE_SELECT)\n",
        "output = list(output)\n",
        "output"
      ],
      "execution_count": 26,
      "outputs": [
        {
          "output_type": "execute_result",
          "data": {
            "text/plain": [
              "[([User(id=2, age=35, social_contacts=297, gender='female')],\n",
              "  [User(id=2, age=35, social_contacts=297, gender='female')]),\n",
              " ([User(id=1, age=32, social_contacts=753, gender='female')],\n",
              "  [User(id=1, age=32, social_contacts=753, gender='female')])]"
            ]
          },
          "metadata": {},
          "execution_count": 26
        }
      ]
    },
    {
      "cell_type": "markdown",
      "metadata": {
        "id": "w27Ca-_Ku85V"
      },
      "source": [
        "### Projection (Проекция)\n",
        "\n",
        "Проекция на множество атрибутов $S$.\n",
        "\n",
        "**The Map Function:** Для каждого кортежа $t \\in R$ создайте кортеж $t′$, исключая  из $t$ те значения, атрибуты которых не принадлежат  $S$. Верните пару $(t′, t′)$.\n",
        "\n",
        "**The Reduce Function:** Для каждого ключа $t′$, созданного любой Map задачей, вы получаете одну или несколько пар $(t′, t′)$. Reduce функция преобразует $(t′, [t′, t′, . . . , t′])$ в $(t′, t′)$, так, что для ключа $t′$ возвращается одна пара  $(t′, t′)$."
      ]
    },
    {
      "cell_type": "code",
      "metadata": {
        "id": "BEvuY4GqvhS6",
        "colab": {
          "base_uri": "https://localhost:8080/"
        },
        "outputId": "1280faea-43fb-4548-e3f0-275fdb608ab5"
      },
      "source": [
        "#Проекция по столбцу gender\n",
        "input_collection = [\n",
        "    User(id=2, age=54, gender=\"male\", social_contacts=120),\n",
        "    User(id=0, age=25, gender=\"female\", social_contacts=540),\n",
        "    User(id=3, age=27, gender=\"male\", social_contacts=742),\n",
        "    User(id=1, age=16, gender=\"male\", social_contacts=123),\n",
        "    User(id=2, age=35, gender=\"female\", social_contacts=297),\n",
        "    User(id=3, age=31, gender=\"male\", social_contacts=521),\n",
        "    User(id=1, age=32, gender=\"female\", social_contacts=753),\n",
        "]\n",
        "\n",
        "def MAP(_, row:NamedTuple):\n",
        "    yield (row.gender, row.gender)\n",
        "\n",
        "def REDUCE(row, rows: NamedTuple):\n",
        "    yield (row, rows[0])\n",
        "\n",
        "def RECORDREADER():\n",
        "  return [(u.id, u) for u in input_collection]\n",
        "\n",
        "output = MapReduce(RECORDREADER, MAP, REDUCE)\n",
        "output = list(output)\n",
        "output"
      ],
      "execution_count": 27,
      "outputs": [
        {
          "output_type": "execute_result",
          "data": {
            "text/plain": [
              "[('male', 'male'), ('female', 'female')]"
            ]
          },
          "metadata": {},
          "execution_count": 27
        }
      ]
    },
    {
      "cell_type": "markdown",
      "metadata": {
        "id": "7gau6lKXvn2R"
      },
      "source": [
        "### Union (Объединение)\n",
        "\n",
        "**The Map Function:** Превратите каждый входной кортеж $t$ в пару ключ-значение $(t, t)$.\n",
        "\n",
        "**The Reduce Function:** С каждым ключом $t$ будет ассоциировано одно или два значений. В обоих случаях создайте $(t, t)$ в качестве выходного значения."
      ]
    },
    {
      "cell_type": "code",
      "metadata": {
        "id": "Sns7a5agv3nw",
        "colab": {
          "base_uri": "https://localhost:8080/"
        },
        "outputId": "56f4a521-651f-4034-ba7e-932c97d72355"
      },
      "source": [
        "input_collection_a = [\n",
        "    User(id=2, age=54, gender=\"male\", social_contacts=120),\n",
        "    User(id=0, age=25, gender=\"female\", social_contacts=540),\n",
        "    User(id=3, age=27, gender=\"male\", social_contacts=742),\n",
        "    User(id=3, age=31, gender=\"male\", social_contacts=521),\n",
        "    User(id=2, age=35, gender=\"female\", social_contacts=297),\n",
        "    User(id=1, age=16, gender=\"male\", social_contacts=123)\n",
        "]\n",
        "\n",
        "input_collection_b = [\n",
        "    User(id=2, age=35, gender=\"female\", social_contacts=297),\n",
        "    User(id=3, age=31, gender=\"male\", social_contacts=521),\n",
        "    User(id=1, age=32, gender=\"female\", social_contacts=753)\n",
        "]\n",
        "\n",
        "def MAP(_, row:NamedTuple):\n",
        "    yield (row, row)\n",
        "\n",
        "def REDUCE(row, rows: NamedTuple):\n",
        "    yield (row, rows[0])\n",
        "\n",
        "def RECORDREADER():\n",
        "  return [(u.id, u) for u in input_collection_a + input_collection_b]\n",
        "\n",
        "output = MapReduce(RECORDREADER, MAP, REDUCE)\n",
        "output = list(output)\n",
        "output"
      ],
      "execution_count": 28,
      "outputs": [
        {
          "output_type": "execute_result",
          "data": {
            "text/plain": [
              "[(User(id=2, age=54, social_contacts=120, gender='male'),\n",
              "  User(id=2, age=54, social_contacts=120, gender='male')),\n",
              " (User(id=0, age=25, social_contacts=540, gender='female'),\n",
              "  User(id=0, age=25, social_contacts=540, gender='female')),\n",
              " (User(id=3, age=27, social_contacts=742, gender='male'),\n",
              "  User(id=3, age=27, social_contacts=742, gender='male')),\n",
              " (User(id=3, age=31, social_contacts=521, gender='male'),\n",
              "  User(id=3, age=31, social_contacts=521, gender='male')),\n",
              " (User(id=2, age=35, social_contacts=297, gender='female'),\n",
              "  User(id=2, age=35, social_contacts=297, gender='female')),\n",
              " (User(id=1, age=16, social_contacts=123, gender='male'),\n",
              "  User(id=1, age=16, social_contacts=123, gender='male')),\n",
              " (User(id=1, age=32, social_contacts=753, gender='female'),\n",
              "  User(id=1, age=32, social_contacts=753, gender='female'))]"
            ]
          },
          "metadata": {},
          "execution_count": 28
        }
      ]
    },
    {
      "cell_type": "markdown",
      "metadata": {
        "id": "dQ8TuEbjv4J8"
      },
      "source": [
        "### Intersection (Пересечение)\n",
        "\n",
        "**The Map Function:** Превратите каждый кортеж $t$ в пары ключ-значение $(t, t)$.\n",
        "\n",
        "**The Reduce Function:** Если для ключа $t$ есть список из двух элементов $[t, t]$ $-$ создайте пару $(t, t)$. Иначе, ничего не создавайте."
      ]
    },
    {
      "cell_type": "code",
      "metadata": {
        "id": "XKlBZh4IwERR",
        "colab": {
          "base_uri": "https://localhost:8080/"
        },
        "outputId": "6fd849f7-754d-4338-b42a-6878805dd66b"
      },
      "source": [
        "input_collection_a = [\n",
        "    User(id=2, age=54, gender=\"male\", social_contacts=120),\n",
        "    User(id=0, age=25, gender=\"female\", social_contacts=540),\n",
        "    User(id=3, age=27, gender=\"male\", social_contacts=742),\n",
        "    User(id=3, age=31, gender=\"male\", social_contacts=521),\n",
        "    User(id=2, age=35, gender=\"female\", social_contacts=297),\n",
        "    User(id=1, age=16, gender=\"male\", social_contacts=123)\n",
        "]\n",
        "\n",
        "input_collection_b = [\n",
        "    User(id=2, age=35, gender=\"female\", social_contacts=297),\n",
        "    User(id=3, age=31, gender=\"male\", social_contacts=521),\n",
        "    User(id=1, age=32, gender=\"female\", social_contacts=753)\n",
        "]\n",
        "\n",
        "def MAP(_, row:NamedTuple):\n",
        "    yield (row, row)\n",
        "\n",
        "def REDUCE(row, rows: NamedTuple):\n",
        "  if len(rows) == 2:\n",
        "    yield (row, rows[0])\n",
        "\n",
        "def RECORDREADER():\n",
        "  return [(u.id, u) for u in input_collection_a + input_collection_b]\n",
        "\n",
        "output = MapReduce(RECORDREADER, MAP, REDUCE)\n",
        "output = list(output)\n",
        "output"
      ],
      "execution_count": 29,
      "outputs": [
        {
          "output_type": "execute_result",
          "data": {
            "text/plain": [
              "[(User(id=3, age=31, social_contacts=521, gender='male'),\n",
              "  User(id=3, age=31, social_contacts=521, gender='male')),\n",
              " (User(id=2, age=35, social_contacts=297, gender='female'),\n",
              "  User(id=2, age=35, social_contacts=297, gender='female'))]"
            ]
          },
          "metadata": {},
          "execution_count": 29
        }
      ]
    },
    {
      "cell_type": "markdown",
      "metadata": {
        "id": "AVOpqoY3wE5k"
      },
      "source": [
        "### Difference (Разница)\n",
        "\n",
        "**The Map Function:** Для кортежа $t \\in R$, создайте пару $(t, R)$, и для кортежа $t \\in S$, создайте пару $(t, S)$. Задумка заключается в том, чтобы значение пары было именем отношения $R$ or $S$, которому принадлежит кортеж (а лучше, единичный бит, по которому можно два отношения различить $R$ or $S$), а не весь набор атрибутов отношения.\n",
        "\n",
        "**The Reduce Function:** Для каждого ключа $t$, если соответствующее значение является списком $[R]$, создайте пару $(t, t)$. В иных случаях не предпринимайте действий."
      ]
    },
    {
      "cell_type": "code",
      "metadata": {
        "id": "QE_AC09lwZIZ",
        "colab": {
          "base_uri": "https://localhost:8080/"
        },
        "outputId": "435bde6e-4926-4322-cfa9-5cc05733e26c"
      },
      "source": [
        "input_collection_a = [\n",
        "    User(id=2, age=54, gender=\"male\", social_contacts=120),\n",
        "    User(id=0, age=25, gender=\"female\", social_contacts=540),\n",
        "    User(id=3, age=27, gender=\"male\", social_contacts=742),\n",
        "    User(id=3, age=31, gender=\"male\", social_contacts=521),\n",
        "    User(id=2, age=35, gender=\"female\", social_contacts=297),\n",
        "    User(id=1, age=16, gender=\"male\", social_contacts=123)\n",
        "]\n",
        "\n",
        "input_collection_b = [\n",
        "    User(id=2, age=35, gender=\"female\", social_contacts=297),\n",
        "    User(id=3, age=31, gender=\"male\", social_contacts=521),\n",
        "    User(id=1, age=32, gender=\"female\", social_contacts=753)\n",
        "]\n",
        "def MAP(_, row:NamedTuple):\n",
        "  if row in input_collection_b:\n",
        "    yield (row, 'S')\n",
        "  if row in input_collection_a:\n",
        "    yield (row, 'R')\n",
        "\n",
        "def REDUCE(row, charic):\n",
        "  if charic[0] == 'R':\n",
        "    yield (row, row)\n",
        "\n",
        "def RECORDREADER():\n",
        "  return [(u.id, u) for u in input_collection_a + input_collection_b]\n",
        "\n",
        "output = MapReduce(RECORDREADER, MAP, REDUCE)\n",
        "output = list(output)\n",
        "output"
      ],
      "execution_count": 30,
      "outputs": [
        {
          "output_type": "execute_result",
          "data": {
            "text/plain": [
              "[(User(id=2, age=54, social_contacts=120, gender='male'),\n",
              "  User(id=2, age=54, social_contacts=120, gender='male')),\n",
              " (User(id=0, age=25, social_contacts=540, gender='female'),\n",
              "  User(id=0, age=25, social_contacts=540, gender='female')),\n",
              " (User(id=3, age=27, social_contacts=742, gender='male'),\n",
              "  User(id=3, age=27, social_contacts=742, gender='male')),\n",
              " (User(id=3, age=31, social_contacts=521, gender='male'),\n",
              "  User(id=3, age=31, social_contacts=521, gender='male')),\n",
              " (User(id=2, age=35, social_contacts=297, gender='female'),\n",
              "  User(id=2, age=35, social_contacts=297, gender='female')),\n",
              " (User(id=1, age=16, social_contacts=123, gender='male'),\n",
              "  User(id=1, age=16, social_contacts=123, gender='male'))]"
            ]
          },
          "metadata": {},
          "execution_count": 30
        }
      ]
    },
    {
      "cell_type": "markdown",
      "metadata": {
        "id": "j8I58V2VwhSm"
      },
      "source": [
        "### Natural Join\n",
        "\n",
        "**The Map Function:** Для каждого кортежа $(a, b)$ отношения $R$, создайте пару $(b,(R, a))$. Для каждого кортежа $(b, c)$ отношения $S$, создайте пару $(b,(S, c))$.\n",
        "\n",
        "**The Reduce Function:** Каждый ключ $b$ будет асоциирован со списком пар, которые принимают форму либо $(R, a)$, либо $(S, c)$. Создайте все пары, одни, состоящие из  первого компонента $R$, а другие, из первого компонента $S$, то есть $(R, a)$ и $(S, c)$. На выходе вы получаете последовательность пар ключ-значение из списков ключей и значений. Ключ не нужен. Каждое значение, это тройка $(a, b, c)$ такая, что $(R, a)$ и $(S, c)$ это принадлежат входному списку значений."
      ]
    },
    {
      "cell_type": "code",
      "metadata": {
        "id": "yHiuuTctw86I",
        "colab": {
          "base_uri": "https://localhost:8080/"
        },
        "outputId": "9a94e6eb-ba24-4e2f-ce4c-132c88d4e55f"
      },
      "source": [
        "input_collection_a = [\n",
        "    User(id=5, age=54, gender=\"male\", social_contacts=120),\n",
        "    User(id=0, age=25, gender=\"female\", social_contacts=540),\n",
        "    User(id=3, age=27, gender=\"male\", social_contacts=742),\n",
        "    User(id=4, age=31, gender=\"male\", social_contacts=521),\n",
        "    User(id=2, age=35, gender=\"female\", social_contacts=297),\n",
        "    User(id=1, age=16, gender=\"male\", social_contacts=123)\n",
        "]\n",
        "\n",
        "class User_Tel(NamedTuple):\n",
        "  id: int\n",
        "  tel: int\n",
        "  info: str\n",
        "\n",
        "input_collection_b = [\n",
        "    User_Tel(id=2, tel=763672, info=\"None\"),\n",
        "    User_Tel(id=3, tel=899080, info=\"None\"),\n",
        "    User_Tel(id=1, tel=708090, info=\"None\"),\n",
        "    User_Tel(id=10, tel=708090, info=\"None\"),\n",
        "]\n",
        "\n",
        "def MAP(_, row:NamedTuple):\n",
        "  if row in input_collection_a and row.id in [r.id for r in input_collection_b]:\n",
        "    yield (row.id, ('R', (row.age, row.gender, row.social_contacts)))\n",
        "  elif row in input_collection_b and row.id in [r.id for r in input_collection_a]:\n",
        "    yield (row.id, ('S', (row.tel, row.info)))\n",
        "\n",
        "\n",
        "def REDUCE(row, charic):\n",
        "  for i in range(len(charic)):\n",
        "    for j in range(len(charic)):\n",
        "      if charic[i][0] == 'R' and charic[j][0] == 'S':\n",
        "        yield (None, (charic[i][1], row, charic[j][1]))\n",
        "\n",
        "def RECORDREADER():\n",
        "  return [(u.id, u) for u in input_collection_a + input_collection_b]\n",
        "\n",
        "output = MapReduce(RECORDREADER, MAP, REDUCE)\n",
        "output = list(output)\n",
        "output"
      ],
      "execution_count": 31,
      "outputs": [
        {
          "output_type": "execute_result",
          "data": {
            "text/plain": [
              "[(None, ((27, 'male', 742), 3, (899080, 'None'))),\n",
              " (None, ((35, 'female', 297), 2, (763672, 'None'))),\n",
              " (None, ((16, 'male', 123), 1, (708090, 'None')))]"
            ]
          },
          "metadata": {},
          "execution_count": 31
        }
      ]
    },
    {
      "cell_type": "markdown",
      "metadata": {
        "id": "kYdlr0YUxE27"
      },
      "source": [
        "### Grouping and Aggregation (Группировка и аггрегация)\n",
        "\n",
        "**The Map Function:** Для каждого кортежа $(a, b, c$) создайте пару $(a, b)$.\n",
        "\n",
        "**The Reduce Function:** Ключ представляет ту или иную группу. Примение аггрегирующую операцию $\\theta$ к списку значений $[b1, b2, . . . , bn]$ ассоциированных с ключом $a$. Возвращайте в выходной поток $(a, x)$, где $x$ результат применения  $\\theta$ к списку. Например, если $\\theta$ это $SUM$, тогда $x = b1 + b2 + · · · + bn$, а если $\\theta$ is $MAX$, тогда $x$ это максимальное из значений $b1, b2, . . . , bn$."
      ]
    },
    {
      "cell_type": "code",
      "metadata": {
        "id": "MLPckfEGxico",
        "colab": {
          "base_uri": "https://localhost:8080/"
        },
        "outputId": "ff28c5ab-3f6c-49fe-fb13-e0c48c1cf982"
      },
      "source": [
        "input_collection_a = [\n",
        "    User(id=5, age=54, gender=\"male\", social_contacts=120),\n",
        "    User(id=0, age=25, gender=\"female\", social_contacts=540),\n",
        "    User(id=3, age=27, gender=\"male\", social_contacts=742),\n",
        "    User(id=4, age=31, gender=\"male\", social_contacts=521),\n",
        "    User(id=2, age=35, gender=\"female\", social_contacts=297),\n",
        "    User(id=1, age=16, gender=\"male\", social_contacts=123)\n",
        "]\n",
        "\n",
        "def MAP(_, row:NamedTuple):\n",
        "  yield (row.gender, row.social_contacts)\n",
        "\n",
        "def REDUCE(row, charic): #GROUP BY USER.GENDER HAVING MAX(USER.SOCIAL_CONTACTS)\n",
        "  yield (row, max(charic))\n",
        "\n",
        "def RECORDREADER():\n",
        "  return [(u.id, u) for u in input_collection_a]\n",
        "\n",
        "output = MapReduce(RECORDREADER, MAP, REDUCE)\n",
        "output = list(output)\n",
        "output"
      ],
      "execution_count": 32,
      "outputs": [
        {
          "output_type": "execute_result",
          "data": {
            "text/plain": [
              "[('male', 742), ('female', 540)]"
            ]
          },
          "metadata": {},
          "execution_count": 32
        }
      ]
    },
    {
      "cell_type": "markdown",
      "source": [
        "# Работа над матрицами"
      ],
      "metadata": {
        "id": "AWWOPT5AYvK1"
      }
    },
    {
      "cell_type": "markdown",
      "metadata": {
        "id": "IIrRgvG4RIS4"
      },
      "source": [
        "### Matrix-Vector multiplication\n",
        "\n",
        "Случай, когда вектор не помещается в памяти Map задачи\n"
      ]
    },
    {
      "cell_type": "code",
      "source": [
        "from typing import Iterator\n",
        "import numpy as np\n",
        "n = 4\n",
        "mat = np.ones((5,n))\n",
        "vec1 = np.random.rand(n // 2) # in-memory vector in all map tasks\n",
        "vec2 = np.random.rand(n - n // 2) #Подразумевается разбиение ультрабольшого вектора на вектора поменьше, которые уже помещаются в памяти\n",
        "\n",
        "def MAP(coordinates:(int, int), value:int):\n",
        "  i, j = coordinates\n",
        "  if(j < len(vec1)):\n",
        "    yield (i, value*vec1[j]) # Значение [i, j] элемента * значение vec[j]. Для каждой строки i образуется shape[1] строк подобного формата\n",
        "  else:\n",
        "    yield (i, value*vec2[j-len(vec1)]) # Значение [i, j] элемента * значение vec[j]. Для каждой строки i образуется shape[1] строк подобного формата\n",
        "\n",
        "def REDUCE(i:int, products:Iterator[NamedTuple]):\n",
        "  sum = 0\n",
        "  for p in products:\n",
        "    sum += p\n",
        "  yield (i, sum) #shape[1] строк, полученных с помощью MAP объединяются с помощью суммирования\n",
        "\n",
        "def RECORDREADER():\n",
        "  for i in range(mat.shape[0]):\n",
        "    for j in range(mat.shape[1]):\n",
        "      yield ((i, j), mat[i,j]) #Представление матрицы. Сохранение [i, j] элемента в формате ((i, j), key)\n",
        "\n",
        "output = MapReduce(RECORDREADER, MAP, REDUCE)\n",
        "output = list(output)\n",
        "output"
      ],
      "metadata": {
        "colab": {
          "base_uri": "https://localhost:8080/"
        },
        "id": "Bi7uyb_6cKvp",
        "outputId": "e868ebf3-58e7-4589-eb5a-5e701c9994f8"
      },
      "execution_count": 33,
      "outputs": [
        {
          "output_type": "execute_result",
          "data": {
            "text/plain": [
              "[(0, 2.7554091947556474),\n",
              " (1, 2.7554091947556474),\n",
              " (2, 2.7554091947556474),\n",
              " (3, 2.7554091947556474),\n",
              " (4, 2.7554091947556474)]"
            ]
          },
          "metadata": {},
          "execution_count": 33
        }
      ]
    },
    {
      "cell_type": "markdown",
      "metadata": {
        "id": "GIo2t7nNxvA9"
      },
      "source": [
        "## Matrix multiplication (Перемножение матриц)\n",
        "\n",
        "Если у нас есть матрица $M$ с элементами $m_{ij}$ в строке $i$ и столбце $j$, и матрица $N$ с элементами $n_{jk}$ в строке $j$ и столбце $k$, тогда их произведение $P = MN$ есть матрица $P$ с элементами $p_{ik}$ в строке $i$ и столбце $k$, где\n",
        "\n",
        "$$p_{ik} =\\sum_{j} m_{ij}n_{jk}$$\n",
        "\n",
        "Необходимым требованием является одинаковое количество столбцов в $M$ и строк в $N$, чтобы операция суммирования по  $j$ была осмысленной. Мы можем размышлять о матрице, как об отношении с тремя атрибутами: номер строки, номер столбца, само значение. Таким образом матрица $M$ предстваляется как отношение $ M(I, J, V )$, с кортежами $(i, j, m_{ij})$, и, аналогично, матрица $N$ представляется как отношение $N(J, K, W)$, с кортежами $(j, k, n_{jk})$. Так как большие матрицы как правило разреженные (большинство значений равно 0), и так как мы можем нулевыми значениями пренебречь (не хранить), такое реляционное представление достаточно эффективно для больших матриц. Однако, возможно, что координаты $i$, $j$, и $k$ неявно закодированы в смещение позиции элемента относительно начала файла, вместо явного хранения. Тогда, функция Map (или Reader) должна быть разработана таким образом, чтобы реконструировать компоненты $I$, $J$, и $K$ кортежей из смещения.\n",
        "\n",
        "Произведение $MN$ это фактически join, за которым следуют группировка по ключу и аггрегация. Таким образом join отношений $M(I, J, V )$ и $N(J, K, W)$, имеющих общим только атрибут $J$, создаст кортежи $(i, j, k, v, w)$ из каждого кортежа $(i, j, v) \\in M$ и кортежа $(j, k, w) \\in N$. Такой 5 компонентный кортеж представляет пару элементов матрицы $(m_{ij} , n_{jk})$. Что нам хотелось бы получить на самом деле, это произведение этих элементов, то есть, 4 компонентный кортеж$(i, j, k, v \\times w)$, так как он представляет произведение $m_{ij}n_{jk}$. Мы представляем отношение как результат одной MapReduce операции, в которой мы можем произвести группировку и аггрегацию, с $I$ и $K$  атрибутами, по которым идёт группировка, и суммой  $V \\times W$.\n",
        "\n",
        "\n",
        "\n"
      ]
    },
    {
      "cell_type": "code",
      "metadata": {
        "id": "1MBkGaLAYVCt"
      },
      "source": [
        "# MapReduce model\n",
        "def flatten(nested_iterable):\n",
        "  for iterable in nested_iterable:\n",
        "    for element in iterable:\n",
        "      yield element\n",
        "\n",
        "def groupbykey(iterable):\n",
        "  t = {}\n",
        "  for (k2, v2) in iterable:\n",
        "    t[k2] = t.get(k2, []) + [v2]\n",
        "  return t.items()\n",
        "\n",
        "def MapReduce(RECORDREADER, MAP, REDUCE):\n",
        "  return flatten(map(lambda x: REDUCE(*x), groupbykey(flatten(map(lambda x: MAP(*x), RECORDREADER())))))"
      ],
      "execution_count": 34,
      "outputs": []
    },
    {
      "cell_type": "markdown",
      "metadata": {
        "id": "sMspsOT0ZB35"
      },
      "source": [
        "Реализуйте перемножение матриц с использованием модельного кода MapReduce для одной машины в случае, когда одна матрица хранится в памяти, а другая генерируется RECORDREADER-ом."
      ]
    },
    {
      "cell_type": "code",
      "metadata": {
        "id": "psP1XekbsEjS"
      },
      "source": [
        "import numpy as np\n",
        "I = 2\n",
        "J = 3\n",
        "K = 4*10\n",
        "small_mat = np.random.rand(I,J) # it is legal to access this from RECORDREADER, MAP, REDUCE\n",
        "big_mat = np.random.rand(J,K)\n",
        "\n",
        "def RECORDREADER():\n",
        "  for j in range(big_mat.shape[0]):\n",
        "    for k in range(big_mat.shape[1]):\n",
        "      yield ((j,k), big_mat[j,k])\n",
        "\n",
        "def MAP(k1, v1):\n",
        "  (j, k) = k1\n",
        "  for i in range(small_mat.shape[0]):\n",
        "    yield ((i, k), small_mat[i][j] * v1)\n",
        "\n",
        "def REDUCE(key, values):\n",
        "  yield  (key, sum(values))\n"
      ],
      "execution_count": 35,
      "outputs": []
    },
    {
      "cell_type": "markdown",
      "metadata": {
        "id": "rnt306LHhHrm"
      },
      "source": [
        "Проверьте своё решение"
      ]
    },
    {
      "cell_type": "code",
      "metadata": {
        "id": "Ewy_ZNYqW5a2",
        "colab": {
          "base_uri": "https://localhost:8080/"
        },
        "outputId": "609980ca-70ef-46eb-d9b0-a5a5584108dd"
      },
      "source": [
        "# CHECK THE SOLUTION\n",
        "reference_solution = np.matmul(small_mat, big_mat)\n",
        "solution = MapReduce(RECORDREADER, MAP, REDUCE)\n",
        "\n",
        "def asmatrix(reduce_output):\n",
        "  reduce_output = list(reduce_output)\n",
        "  I = max(i for ((i,k), vw) in reduce_output)+1\n",
        "  K = max(k for ((i,k), vw) in reduce_output)+1\n",
        "  mat = np.empty(shape=(I,K))\n",
        "  for ((i,k), vw) in reduce_output:\n",
        "    mat[i,k] = vw\n",
        "  return mat\n",
        "\n",
        "np.allclose(reference_solution, asmatrix(solution)) # should return true"
      ],
      "execution_count": 36,
      "outputs": [
        {
          "output_type": "execute_result",
          "data": {
            "text/plain": [
              "True"
            ]
          },
          "metadata": {},
          "execution_count": 36
        }
      ]
    },
    {
      "cell_type": "code",
      "metadata": {
        "id": "TK7v4CEcfxqf",
        "colab": {
          "base_uri": "https://localhost:8080/"
        },
        "outputId": "78d1a30a-e409-4d65-aed9-77869b34941d"
      },
      "source": [
        "reduce_output = list(MapReduce(RECORDREADER, MAP, REDUCE))\n",
        "max(i for ((i,k), vw) in reduce_output)"
      ],
      "execution_count": 37,
      "outputs": [
        {
          "output_type": "execute_result",
          "data": {
            "text/plain": [
              "1"
            ]
          },
          "metadata": {},
          "execution_count": 37
        }
      ]
    },
    {
      "cell_type": "markdown",
      "metadata": {
        "id": "i4yyg3kOZqJJ"
      },
      "source": [
        "Реализуйте перемножение матриц  с использованием модельного кода MapReduce для одной машины в случае, когда обе матрицы генерируются в RECORDREADER. Например, сначала одна, а потом другая."
      ]
    },
    {
      "cell_type": "code",
      "metadata": {
        "id": "3B7rIAJCaHZq",
        "colab": {
          "base_uri": "https://localhost:8080/"
        },
        "outputId": "a217b340-8d49-4c3a-993c-53964faeb32b"
      },
      "source": [
        "import numpy as np\n",
        "I = 2\n",
        "J = 3\n",
        "K = 4*10\n",
        "small_mat = np.random.rand(I,J) # it is legal to access this from RECORDREADER, MAP, REDUCE\n",
        "big_mat = np.random.rand(J,K)\n",
        "\n",
        "def RECORDREADER():\n",
        "  for i in range (small_mat.shape[0]):\n",
        "    for j in range(big_mat.shape[0]):\n",
        "      for k in range(big_mat.shape[1]):\n",
        "        yield (((i, j), small_mat[i,j]), ((j, k), big_mat[j,k]))\n",
        "\n",
        "\n",
        "def MAP(mat1, mat2):\n",
        "  (k1, v1) = mat1\n",
        "  (k2, v2) = mat2\n",
        "  (i, _) = k1\n",
        "  (_, k) = k2\n",
        "  yield ((i, k), v1 * v2)\n",
        "\n",
        "def REDUCE(key, values):\n",
        "  yield (key, sum(values))\n",
        "\n",
        "# CHECK THE SOLUTION\n",
        "reference_solution = np.matmul(small_mat, big_mat)\n",
        "solution = MapReduce(RECORDREADER, MAP, REDUCE)\n",
        "\n",
        "def asmatrix(reduce_output):\n",
        "  reduce_output = list(reduce_output)\n",
        "  I = max(i for ((i,k), vw) in reduce_output)+1\n",
        "  K = max(k for ((i,k), vw) in reduce_output)+1\n",
        "  mat = np.empty(shape=(I,K))\n",
        "  for ((i,k), vw) in reduce_output:\n",
        "    mat[i,k] = vw\n",
        "  return mat\n",
        "\n",
        "np.allclose(reference_solution, asmatrix(solution)) # should return true"
      ],
      "execution_count": 38,
      "outputs": [
        {
          "output_type": "execute_result",
          "data": {
            "text/plain": [
              "True"
            ]
          },
          "metadata": {},
          "execution_count": 38
        }
      ]
    },
    {
      "cell_type": "markdown",
      "metadata": {
        "id": "mXyzQi1DaIwo"
      },
      "source": [
        "Реализуйте перемножение матриц с использованием модельного кода MapReduce Distributed, когда каждая матрица генерируется в своём RECORDREADER."
      ]
    },
    {
      "cell_type": "code",
      "metadata": {
        "id": "TDM_s78Rb5eR",
        "colab": {
          "base_uri": "https://localhost:8080/"
        },
        "outputId": "7b088cd2-b985-41a9-99db-09fdc80fcd0f"
      },
      "source": [
        "import numpy as np\n",
        "\n",
        "I = 2\n",
        "J = 3\n",
        "K = 4*10\n",
        "\n",
        "maps = 2\n",
        "reducers = 3\n",
        "\n",
        "small_mat = np.random.rand(I, J)\n",
        "big_mat = np.random.rand(J, K)\n",
        "\n",
        "def INPUTFORMAT():\n",
        "  def RECORDREADER(key, split):\n",
        "    mat = []\n",
        "    for i in range(split.shape[0]):\n",
        "      for j in range(split.shape[1]):\n",
        "        mat.append(((key, i, j), split[i, j]))\n",
        "    return mat\n",
        "\n",
        "  list1 = RECORDREADER('S', small_mat)\n",
        "  list2 = RECORDREADER('B', big_mat)\n",
        "  yield list1\n",
        "  yield list2\n",
        "\n",
        "\n",
        "def MAP(k, v):\n",
        "  (mat, i, j) = k\n",
        "  w = v\n",
        "  if mat == 'S':\n",
        "    yield (j, (mat, i, w))\n",
        "  else:\n",
        "    yield (i, (mat, j, w))\n",
        "\n",
        "def REDUCE(key, values):\n",
        "  small = [v for v in values if v[0] == 'S']\n",
        "  big = [v for v in values if v[0] == 'B']\n",
        "  for s in small:\n",
        "    for b in big:\n",
        "      yield ((s[1], b[1]), s[2] * b[2])\n",
        "\n",
        "def INPUT_MUL():\n",
        "  for j in joined:\n",
        "    yield j[1]\n",
        "\n",
        "def MAP_MUL(k1, v1):\n",
        "  yield (k1, v1)\n",
        "\n",
        "def REDUCE_MUL(key, values):\n",
        "  res_val = 0\n",
        "  for v in values:\n",
        "    res_val += v\n",
        "  yield (key, res_val)\n",
        "\n",
        "partitioned_output = MapReduceDistributed(INPUTFORMAT, MAP, REDUCE, COMBINER=None)\n",
        "joined = [(partition_id, list(partition)) for (partition_id, partition) in partitioned_output]\n",
        "\n",
        "mul_output = MapReduceDistributed(INPUT_MUL, MAP_MUL, REDUCE_MUL, COMBINER=None)\n",
        "pre_result = [(partition_id, list(partition)) for (partition_id, partition) in mul_output]\n",
        "\n",
        "solution = []\n",
        "for p in pre_result:\n",
        "  for v in p[1]:\n",
        "    solution.append(v)"
      ],
      "execution_count": 40,
      "outputs": [
        {
          "output_type": "stream",
          "name": "stdout",
          "text": [
            "126 key-value pairs were sent over a network.\n",
            "240 key-value pairs were sent over a network.\n"
          ]
        }
      ]
    },
    {
      "cell_type": "code",
      "source": [
        "# CHECK THE SOLUTION\n",
        "reference_solution = np.matmul(small_mat, big_mat)\n",
        "\n",
        "def asmatrix(reduce_output):\n",
        "  reduce_output = list(reduce_output)\n",
        "  I = max(i for ((i,k), vw) in reduce_output)+1\n",
        "  K = max(k for ((i,k), vw) in reduce_output)+1\n",
        "  mat = np.empty(shape=(I,K))\n",
        "  for ((i,k), vw) in reduce_output:\n",
        "    mat[i,k] = vw\n",
        "  return mat\n",
        "\n",
        "np.allclose(reference_solution, asmatrix(solution)) # should return true"
      ],
      "metadata": {
        "colab": {
          "base_uri": "https://localhost:8080/"
        },
        "id": "C_jua0ueJ146",
        "outputId": "a759c754-a26f-4fa9-8c4f-78311350708f"
      },
      "execution_count": 41,
      "outputs": [
        {
          "output_type": "execute_result",
          "data": {
            "text/plain": [
              "True"
            ]
          },
          "metadata": {},
          "execution_count": 41
        }
      ]
    },
    {
      "cell_type": "markdown",
      "metadata": {
        "id": "ZuSA2P9Db6UM"
      },
      "source": [
        "Обобщите предыдущее решение на случай, когда каждая матрица генерируется несколькими RECORDREADER-ами, и проверьте его работоспособность. Будет ли работать решение, если RECORDREADER-ы будут генерировать случайное подмножество элементов матрицы?"
      ]
    },
    {
      "cell_type": "code",
      "metadata": {
        "id": "ehN0FqRDcwU5",
        "colab": {
          "base_uri": "https://localhost:8080/"
        },
        "outputId": "9f26c042-f8a2-446c-fb80-de234cae4068"
      },
      "source": [
        "import numpy as np\n",
        "\n",
        "I = 2\n",
        "J = 3\n",
        "K = 4*10\n",
        "\n",
        "maps = 2\n",
        "reducers = 3\n",
        "\n",
        "small_mat = np.random.rand(I, J)\n",
        "big_mat = np.random.rand(J, K)\n",
        "\n",
        "def INPUTFORMAT():\n",
        "  global maps\n",
        "  def RECORDREADER(key, split):\n",
        "    mat = []\n",
        "    for i in range(split.shape[0]):\n",
        "      for j in range(split.shape[1]):\n",
        "        mat.append(((key, i, j), split[i, j]))\n",
        "    return mat\n",
        "\n",
        "  small = RECORDREADER('S', small_mat)\n",
        "  split_size =  int(np.ceil(len(small)/maps))\n",
        "  for i in range(0, len(small), split_size):\n",
        "    yield small[i:i+split_size]\n",
        "\n",
        "  big = RECORDREADER('B', big_mat)\n",
        "  split_size =  int(np.ceil(len(big)/maps))\n",
        "  for i in range(0, len(big), split_size):\n",
        "    yield big[i:i+split_size]\n",
        "\n",
        "def MAP(k, v):\n",
        "  (mat, i, j) = k\n",
        "  w = v\n",
        "  if mat == 'S':\n",
        "    yield (j, (mat, i, w))\n",
        "  else:\n",
        "    yield (i, (mat, j, w))\n",
        "\n",
        "def REDUCE(key, values):\n",
        "  small = [v for v in values if v[0] == 'S']\n",
        "  big = [v for v in values if v[0] == 'B']\n",
        "  for s in small:\n",
        "    for b in big:\n",
        "      yield ((s[1], b[1]), s[2] * b[2])\n",
        "\n",
        "def INPUT_MUL():\n",
        "  for j in joined:\n",
        "    yield j[1]\n",
        "\n",
        "def MAP_MUL(k1, v1):\n",
        "  yield (k1, v1)\n",
        "\n",
        "def REDUCE_MUL(key, values):\n",
        "  res_val = 0\n",
        "  for v in values:\n",
        "    res_val += v\n",
        "  yield (key, res_val)\n",
        "\n",
        "partitioned_output = MapReduceDistributed(INPUTFORMAT, MAP, REDUCE, COMBINER=None)\n",
        "joined = [(partition_id, list(partition)) for (partition_id, partition) in partitioned_output]\n",
        "\n",
        "mul_output = MapReduceDistributed(INPUT_MUL, MAP_MUL, REDUCE_MUL, COMBINER=None)\n",
        "pre_result = [(partition_id, list(partition)) for (partition_id, partition) in mul_output]\n",
        "\n",
        "solution = []\n",
        "for p in pre_result:\n",
        "  for v in p[1]:\n",
        "    solution.append(v)"
      ],
      "execution_count": 42,
      "outputs": [
        {
          "output_type": "stream",
          "name": "stdout",
          "text": [
            "126 key-value pairs were sent over a network.\n",
            "240 key-value pairs were sent over a network.\n"
          ]
        }
      ]
    },
    {
      "cell_type": "code",
      "source": [
        "# CHECK THE SOLUTION\n",
        "reference_solution = np.matmul(small_mat, big_mat)\n",
        "\n",
        "def asmatrix(reduce_output):\n",
        "  reduce_output = list(reduce_output)\n",
        "  I = max(i for ((i,k), vw) in reduce_output)+1\n",
        "  K = max(k for ((i,k), vw) in reduce_output)+1\n",
        "  mat = np.empty(shape=(I,K))\n",
        "  for ((i,k), vw) in reduce_output:\n",
        "    mat[i,k] = vw\n",
        "  return mat\n",
        "\n",
        "np.allclose(reference_solution, asmatrix(solution)) # should return true"
      ],
      "metadata": {
        "colab": {
          "base_uri": "https://localhost:8080/"
        },
        "id": "97fdjOnMJ9dN",
        "outputId": "e9159b19-ba4b-4365-97b8-46244dd602c1"
      },
      "execution_count": 43,
      "outputs": [
        {
          "output_type": "execute_result",
          "data": {
            "text/plain": [
              "True"
            ]
          },
          "metadata": {},
          "execution_count": 43
        }
      ]
    }
  ]
}